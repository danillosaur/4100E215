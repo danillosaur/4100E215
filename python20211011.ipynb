{
  "nbformat": 4,
  "nbformat_minor": 0,
  "metadata": {
    "colab": {
      "name": "python20211011.ipynb",
      "provenance": [],
      "collapsed_sections": [
        "Yim5JG6IA0R5",
        "PeDCsRET2p2I",
        "VOMQ4pKo_ZyT",
        "IjsiXRMJXHNc",
        "namgFX7SDfrE",
        "kPd1IXWPYMhn",
        "NgXgvXTHF1yS",
        "-FxjDMfgZ5IH",
        "S764T8CKHFo2",
        "wJ2coKt5IDNy",
        "tkz-1bVHJgbY",
        "KzXbP8p1bQn7",
        "ARNUn3_hK6T0",
        "mAKHu2pcMt-u"
      ],
      "authorship_tag": "ABX9TyPiEg6gBJxow66I+LAX9le1",
      "include_colab_link": true
    },
    "kernelspec": {
      "name": "python3",
      "display_name": "Python 3"
    },
    "language_info": {
      "name": "python"
    }
  },
  "cells": [
    {
      "cell_type": "markdown",
      "metadata": {
        "id": "view-in-github",
        "colab_type": "text"
      },
      "source": [
        "<a href=\"https://colab.research.google.com/github/danillosaur/4100E215/blob/Introduction-to-Information-Technology/python20211011.ipynb\" target=\"_parent\"><img src=\"https://colab.research.google.com/assets/colab-badge.svg\" alt=\"Open In Colab\"/></a>"
      ]
    },
    {
      "cell_type": "markdown",
      "metadata": {
        "id": "Yim5JG6IA0R5"
      },
      "source": [
        "### **Python Data Type**\n",
        "\n",
        "Date: 2021/10/11\n",
        "\n",
        "Name: Fritz Daniel A. Gonzales\n",
        "\n",
        "丹尼爾 - 4100E215"
      ]
    },
    {
      "cell_type": "markdown",
      "metadata": {
        "id": "PeDCsRET2p2I"
      },
      "source": [
        "# **Arithmetic Operators**"
      ]
    },
    {
      "cell_type": "code",
      "metadata": {
        "colab": {
          "base_uri": "https://localhost:8080/"
        },
        "id": "2ReF_ZcHrt6O",
        "outputId": "5c278e7c-bce4-41d9-8695-56135b554c66"
      },
      "source": [
        "f= 13 + 3 + 1\n",
        "f"
      ],
      "execution_count": 1,
      "outputs": [
        {
          "output_type": "execute_result",
          "data": {
            "text/plain": [
              "17"
            ]
          },
          "metadata": {},
          "execution_count": 1
        }
      ]
    },
    {
      "cell_type": "code",
      "metadata": {
        "colab": {
          "base_uri": "https://localhost:8080/"
        },
        "id": "IFPwoM5NsErP",
        "outputId": "39b0d782-27d2-4f59-a887-208dd736e8f5"
      },
      "source": [
        "g = 50 - 27\n",
        "g"
      ],
      "execution_count": 2,
      "outputs": [
        {
          "output_type": "execute_result",
          "data": {
            "text/plain": [
              "23"
            ]
          },
          "metadata": {},
          "execution_count": 2
        }
      ]
    },
    {
      "cell_type": "code",
      "metadata": {
        "colab": {
          "base_uri": "https://localhost:8080/"
        },
        "id": "DB5UpYdIsIzt",
        "outputId": "791a0e39-5ddd-4f8e-be98-2f73793c4e4c"
      },
      "source": [
        "h = 800 * 990\n",
        "h"
      ],
      "execution_count": 3,
      "outputs": [
        {
          "output_type": "execute_result",
          "data": {
            "text/plain": [
              "792000"
            ]
          },
          "metadata": {},
          "execution_count": 3
        }
      ]
    },
    {
      "cell_type": "code",
      "metadata": {
        "colab": {
          "base_uri": "https://localhost:8080/"
        },
        "id": "cAofKmk01rFG",
        "outputId": "d4e4e6d7-e9e7-495c-adf0-2ca08fed26c7"
      },
      "source": [
        "a = 21 / 3\n",
        "a"
      ],
      "execution_count": null,
      "outputs": [
        {
          "output_type": "execute_result",
          "data": {
            "text/plain": [
              "7.0"
            ]
          },
          "metadata": {},
          "execution_count": 11
        }
      ]
    },
    {
      "cell_type": "code",
      "metadata": {
        "colab": {
          "base_uri": "https://localhost:8080/"
        },
        "id": "Bz5Q0a2c3iuU",
        "outputId": "46ced6c7-ac00-4c02-c030-5e779e82b948"
      },
      "source": [
        "b = 42 // 6\n",
        "b"
      ],
      "execution_count": null,
      "outputs": [
        {
          "output_type": "execute_result",
          "data": {
            "text/plain": [
              "7"
            ]
          },
          "metadata": {},
          "execution_count": 13
        }
      ]
    },
    {
      "cell_type": "code",
      "metadata": {
        "colab": {
          "base_uri": "https://localhost:8080/"
        },
        "id": "BL1Mskev3n4k",
        "outputId": "1efe5a34-367e-4640-fe30-1afd570949fe"
      },
      "source": [
        "c = 42 % 30\n",
        "c"
      ],
      "execution_count": null,
      "outputs": [
        {
          "output_type": "execute_result",
          "data": {
            "text/plain": [
              "12"
            ]
          },
          "metadata": {},
          "execution_count": 20
        }
      ]
    },
    {
      "cell_type": "code",
      "metadata": {
        "colab": {
          "base_uri": "https://localhost:8080/"
        },
        "id": "CLDyG6Q4Sx1Z",
        "outputId": "4940ac58-49bf-45e7-c29a-ba23f510a90f"
      },
      "source": [
        "d = 15**3\n",
        "d"
      ],
      "execution_count": null,
      "outputs": [
        {
          "output_type": "execute_result",
          "data": {
            "text/plain": [
              "3375"
            ]
          },
          "metadata": {},
          "execution_count": 59
        }
      ]
    },
    {
      "cell_type": "markdown",
      "metadata": {
        "id": "VOMQ4pKo_ZyT"
      },
      "source": [
        "# **Logical Operators**"
      ]
    },
    {
      "cell_type": "code",
      "metadata": {
        "colab": {
          "base_uri": "https://localhost:8080/"
        },
        "id": "vJ4CE1q6CLM0",
        "outputId": "9f743eed-abc2-4723-dd1f-f71940941f43"
      },
      "source": [
        "x = 7\n",
        "print (x < 4 and x > 8)"
      ],
      "execution_count": null,
      "outputs": [
        {
          "output_type": "stream",
          "name": "stdout",
          "text": [
            "False\n"
          ]
        }
      ]
    },
    {
      "cell_type": "markdown",
      "metadata": {
        "id": "uoNfzNu2CjVb"
      },
      "source": [
        "x = 7\n",
        "\n",
        "(x < 4) FALSE |  (x > 8) FALSE \n",
        "\n",
        "[True] and [True] ==> True\n",
        "\n",
        "[True] and [False] ==> False \n",
        "\n",
        "[False] and [True] ==> False\n",
        "\n",
        "[False] and [False] ==> False"
      ]
    },
    {
      "cell_type": "code",
      "metadata": {
        "colab": {
          "base_uri": "https://localhost:8080/"
        },
        "id": "EbGgpy2WUrID",
        "outputId": "a5075ebc-ad6e-47ec-ecb8-53adb93d0c76"
      },
      "source": [
        "x = 7\n",
        "print (x < 4 or x > 8)"
      ],
      "execution_count": null,
      "outputs": [
        {
          "output_type": "stream",
          "name": "stdout",
          "text": [
            "False\n"
          ]
        }
      ]
    },
    {
      "cell_type": "markdown",
      "metadata": {
        "id": "0gRA65-8UxVP"
      },
      "source": [
        "x = 7\n",
        "(x < 4) FALSE | (x > 8) FALSE\n",
        "\n",
        "[True] or [True] ==> True\n",
        "\n",
        "[True] or [False] ==> True\n",
        "\n",
        "[False] or [True] ==> True\n",
        "\n",
        "[False] or [False] ==> False"
      ]
    },
    {
      "cell_type": "markdown",
      "metadata": {
        "id": "IjsiXRMJXHNc"
      },
      "source": [
        "# **Built-In Funtions (bin Function)**"
      ]
    },
    {
      "cell_type": "code",
      "metadata": {
        "colab": {
          "base_uri": "https://localhost:8080/",
          "height": 35
        },
        "id": "ARItmbINXPw5",
        "outputId": "f29071cc-f16b-4f21-88a1-2112bc80055a"
      },
      "source": [
        "bin(17)"
      ],
      "execution_count": null,
      "outputs": [
        {
          "output_type": "execute_result",
          "data": {
            "application/vnd.google.colaboratory.intrinsic+json": {
              "type": "string"
            },
            "text/plain": [
              "'0b10001'"
            ]
          },
          "metadata": {},
          "execution_count": 63
        }
      ]
    },
    {
      "cell_type": "code",
      "metadata": {
        "colab": {
          "base_uri": "https://localhost:8080/"
        },
        "id": "Jq3tIdRiXUfY",
        "outputId": "5aa68c6f-60a0-485f-9af0-c2ec08619fdb"
      },
      "source": [
        "int(0b10001)"
      ],
      "execution_count": null,
      "outputs": [
        {
          "output_type": "execute_result",
          "data": {
            "text/plain": [
              "17"
            ]
          },
          "metadata": {},
          "execution_count": 64
        }
      ]
    },
    {
      "cell_type": "markdown",
      "metadata": {
        "id": "namgFX7SDfrE"
      },
      "source": [
        "# **String** **Data** **Type**"
      ]
    },
    {
      "cell_type": "code",
      "metadata": {
        "colab": {
          "base_uri": "https://localhost:8080/",
          "height": 35
        },
        "id": "UhZcO06TDuzb",
        "outputId": "cbdeba39-5b2a-40ed-ce8f-dfbbabff359f"
      },
      "source": [
        "str3 = 'making embedded \"double\" quotes'\n",
        "str3 "
      ],
      "execution_count": null,
      "outputs": [
        {
          "output_type": "execute_result",
          "data": {
            "application/vnd.google.colaboratory.intrinsic+json": {
              "type": "string"
            },
            "text/plain": [
              "'making embedded \"double\" quotes'"
            ]
          },
          "metadata": {},
          "execution_count": 66
        }
      ]
    },
    {
      "cell_type": "code",
      "metadata": {
        "colab": {
          "base_uri": "https://localhost:8080/",
          "height": 35
        },
        "id": "nlTBo3rsX79J",
        "outputId": "c519c886-25ce-41ae-b92e-d09b4617fba9"
      },
      "source": [
        "str3 = 'finding the \"The Boy Who Lived\" scenes'\n",
        "str3 "
      ],
      "execution_count": null,
      "outputs": [
        {
          "output_type": "execute_result",
          "data": {
            "application/vnd.google.colaboratory.intrinsic+json": {
              "type": "string"
            },
            "text/plain": [
              "'finding the \"The Boy Who Lived\" scenes'"
            ]
          },
          "metadata": {},
          "execution_count": 65
        }
      ]
    },
    {
      "cell_type": "markdown",
      "metadata": {
        "id": "kPd1IXWPYMhn"
      },
      "source": [
        "# **Operation on Strings**"
      ]
    },
    {
      "cell_type": "code",
      "metadata": {
        "colab": {
          "base_uri": "https://localhost:8080/"
        },
        "id": "0eF8xf96FKKq",
        "outputId": "004c4f1c-951e-4428-a542-f10498947e64"
      },
      "source": [
        "movie1 = 'The Lion King!'\n",
        "\n",
        "print(\"movie1[9]: \", movie1[9])"
      ],
      "execution_count": null,
      "outputs": [
        {
          "output_type": "stream",
          "name": "stdout",
          "text": [
            "movie1[9]:  K\n"
          ]
        }
      ]
    },
    {
      "cell_type": "markdown",
      "metadata": {
        "id": "_7ha0oKsFj5J"
      },
      "source": [
        "\n",
        "movie1 = 'The Lion King!'\n",
        "\n",
        "movie1[0] ==> T\n",
        "\n",
        "movie1[1] ==> h\n",
        "\n",
        "and so on"
      ]
    },
    {
      "cell_type": "markdown",
      "metadata": {
        "id": "NgXgvXTHF1yS"
      },
      "source": [
        "# **Slice Operation**"
      ]
    },
    {
      "cell_type": "code",
      "metadata": {
        "colab": {
          "base_uri": "https://localhost:8080/"
        },
        "id": "KPZYtourF7Yc",
        "outputId": "b9e10eee-bf2e-424b-b866-cb0c139ce0bb"
      },
      "source": [
        "b = \"Hakuna Matata\"\n",
        "print(b[4:7])"
      ],
      "execution_count": null,
      "outputs": [
        {
          "output_type": "stream",
          "name": "stdout",
          "text": [
            "na \n"
          ]
        }
      ]
    },
    {
      "cell_type": "code",
      "metadata": {
        "colab": {
          "base_uri": "https://localhost:8080/"
        },
        "id": "PIwqr67XGbU0",
        "outputId": "74f6286a-1db8-46ae-e82e-7b04ac1b3be8"
      },
      "source": [
        "b = \"Hakuna Matata\"\n",
        "print (b[:10])"
      ],
      "execution_count": null,
      "outputs": [
        {
          "output_type": "stream",
          "name": "stdout",
          "text": [
            "Hakuna Mat\n"
          ]
        }
      ]
    },
    {
      "cell_type": "code",
      "metadata": {
        "colab": {
          "base_uri": "https://localhost:8080/"
        },
        "id": "ayQiM5BZGi5G",
        "outputId": "a91a5e10-7401-493a-af7c-d1a853184b45"
      },
      "source": [
        "b = \"Hakuna Matata\"\n",
        "print (b[0:])"
      ],
      "execution_count": null,
      "outputs": [
        {
          "output_type": "stream",
          "name": "stdout",
          "text": [
            "Hakuna Matata\n"
          ]
        }
      ]
    },
    {
      "cell_type": "code",
      "metadata": {
        "colab": {
          "base_uri": "https://localhost:8080/"
        },
        "id": "jEEoWJudGtsj",
        "outputId": "6e634960-27a6-43f7-9fdf-52ad38146a68"
      },
      "source": [
        "b = \"Hakuna Matata\"\n",
        "print (b[-2:-1])"
      ],
      "execution_count": null,
      "outputs": [
        {
          "output_type": "stream",
          "name": "stdout",
          "text": [
            "t\n"
          ]
        }
      ]
    },
    {
      "cell_type": "markdown",
      "metadata": {
        "id": "-FxjDMfgZ5IH"
      },
      "source": [
        "## **Python capitalize() Method**"
      ]
    },
    {
      "cell_type": "code",
      "metadata": {
        "colab": {
          "base_uri": "https://localhost:8080/"
        },
        "id": "Fqxz-ALgZ9J6",
        "outputId": "316a0260-753f-40a8-c4d6-4bb794f987db"
      },
      "source": [
        "cat = \"meow\"\n",
        "x = cat.capitalize()\n",
        "print (x)"
      ],
      "execution_count": null,
      "outputs": [
        {
          "output_type": "stream",
          "name": "stdout",
          "text": [
            "Meow\n"
          ]
        }
      ]
    },
    {
      "cell_type": "markdown",
      "metadata": {
        "id": "S764T8CKHFo2"
      },
      "source": [
        "# **Python capitalize() Method** "
      ]
    },
    {
      "cell_type": "code",
      "metadata": {
        "colab": {
          "base_uri": "https://localhost:8080/"
        },
        "id": "PQn9UqOlHMnR",
        "outputId": "23430ed8-1d01-405f-9233-a5417aef6422"
      },
      "source": [
        "cat = \"meow\"\n",
        "x = cat.capitalize()\n",
        "print (x)"
      ],
      "execution_count": null,
      "outputs": [
        {
          "output_type": "stream",
          "name": "stdout",
          "text": [
            "Meow\n"
          ]
        }
      ]
    },
    {
      "cell_type": "markdown",
      "metadata": {
        "id": "wJ2coKt5IDNy"
      },
      "source": [
        "# **Python join() Method**"
      ]
    },
    {
      "cell_type": "code",
      "metadata": {
        "colab": {
          "base_uri": "https://localhost:8080/"
        },
        "id": "nyT3Sy37JFts",
        "outputId": "4523772d-8cf6-4cd4-b74b-3967c4c10c07"
      },
      "source": [
        "character = (\"The\", \"Boy\", \"Who\", \"Lived\")\n",
        "x = \"-\".join(character)\n",
        "print (x)"
      ],
      "execution_count": null,
      "outputs": [
        {
          "output_type": "stream",
          "name": "stdout",
          "text": [
            "The-Boy-Who-Lived\n"
          ]
        }
      ]
    },
    {
      "cell_type": "markdown",
      "metadata": {
        "id": "tkz-1bVHJgbY"
      },
      "source": [
        "# **Python ljust() Method**"
      ]
    },
    {
      "cell_type": "code",
      "metadata": {
        "colab": {
          "base_uri": "https://localhost:8080/"
        },
        "id": "dTyf6lJfJo4Z",
        "outputId": "0ae94de1-4518-4d0a-d6ad-addb4c25a41a"
      },
      "source": [
        "cat = \"meow\"\n",
        "x = cat.ljust(3)\n",
        "print (x, \"the cat said.\")"
      ],
      "execution_count": null,
      "outputs": [
        {
          "output_type": "stream",
          "name": "stdout",
          "text": [
            "meow the cat said.\n"
          ]
        }
      ]
    },
    {
      "cell_type": "markdown",
      "metadata": {
        "id": "KzXbP8p1bQn7"
      },
      "source": [
        "# **Python lstrip() Method**"
      ]
    },
    {
      "cell_type": "code",
      "metadata": {
        "colab": {
          "base_uri": "https://localhost:8080/"
        },
        "id": "CJ72nzWMba5m",
        "outputId": "1f6d5a79-753b-4917-acb5-6bf7c171bccc"
      },
      "source": [
        "color = \"     white and brown   \"\n",
        "x = color.lstrip()\n",
        "print (\"the color of my room is,\", x, \"and I think it is beautiful.\")"
      ],
      "execution_count": null,
      "outputs": [
        {
          "output_type": "stream",
          "name": "stdout",
          "text": [
            "the color of my room is, white and brown    and I think it is beautiful.\n"
          ]
        }
      ]
    },
    {
      "cell_type": "markdown",
      "metadata": {
        "id": "ARNUn3_hK6T0"
      },
      "source": [
        "# **List Data Type**"
      ]
    },
    {
      "cell_type": "code",
      "metadata": {
        "colab": {
          "base_uri": "https://localhost:8080/"
        },
        "id": "HJlAL0WEK9eN",
        "outputId": "db3c757e-605f-4711-9e3a-9d19d69bc503"
      },
      "source": [
        "list1 = [14,17,8,7,11,13,9]\n",
        "list1 [3]"
      ],
      "execution_count": null,
      "outputs": [
        {
          "output_type": "execute_result",
          "data": {
            "text/plain": [
              "7"
            ]
          },
          "metadata": {},
          "execution_count": 49
        }
      ]
    },
    {
      "cell_type": "markdown",
      "metadata": {
        "id": "B-EWk4ptLSvI"
      },
      "source": [
        "list1 = [14,17,8,7,11,13,9]\n",
        "\n",
        "index of list\n",
        "\n",
        "list1 [0] ==> 14\n",
        "\n",
        "list1 [1] ==> 17\n",
        "\n",
        "and so on..."
      ]
    },
    {
      "cell_type": "markdown",
      "metadata": {
        "id": "RAJ1WEo9capF"
      },
      "source": [
        "# **List Slice Operation**"
      ]
    },
    {
      "cell_type": "code",
      "metadata": {
        "colab": {
          "base_uri": "https://localhost:8080/"
        },
        "id": "SXI6fm7rLhQy",
        "outputId": "b37df339-a3be-4379-d091-b8452387e6e9"
      },
      "source": [
        "list1 = [14,17,8,7,11,13,9]\n",
        "list1 [2:4]"
      ],
      "execution_count": null,
      "outputs": [
        {
          "output_type": "execute_result",
          "data": {
            "text/plain": [
              "[8, 7]"
            ]
          },
          "metadata": {},
          "execution_count": 50
        }
      ]
    },
    {
      "cell_type": "markdown",
      "metadata": {
        "id": "mAKHu2pcMt-u"
      },
      "source": [
        "# **List Built-in Funtions**"
      ]
    },
    {
      "cell_type": "code",
      "metadata": {
        "colab": {
          "base_uri": "https://localhost:8080/"
        },
        "id": "9aaibRS5Mmoc",
        "outputId": "c0ad35ff-94d4-4f4b-d36b-daee1471db57"
      },
      "source": [
        "max(list1)"
      ],
      "execution_count": null,
      "outputs": [
        {
          "output_type": "execute_result",
          "data": {
            "text/plain": [
              "17"
            ]
          },
          "metadata": {},
          "execution_count": 76
        }
      ]
    },
    {
      "cell_type": "code",
      "metadata": {
        "colab": {
          "base_uri": "https://localhost:8080/"
        },
        "id": "C7fchyDdM15l",
        "outputId": "79edbfe9-51c6-4fb9-e41b-660e541cd82d"
      },
      "source": [
        "len(list1)"
      ],
      "execution_count": null,
      "outputs": [
        {
          "output_type": "execute_result",
          "data": {
            "text/plain": [
              "7"
            ]
          },
          "metadata": {},
          "execution_count": 77
        }
      ]
    },
    {
      "cell_type": "code",
      "metadata": {
        "colab": {
          "base_uri": "https://localhost:8080/"
        },
        "id": "KvTbRSgiM_Pz",
        "outputId": "1266182d-6607-4cf2-9a94-bb99c5dece88"
      },
      "source": [
        "min(list1)"
      ],
      "execution_count": null,
      "outputs": [
        {
          "output_type": "execute_result",
          "data": {
            "text/plain": [
              "7"
            ]
          },
          "metadata": {},
          "execution_count": 78
        }
      ]
    },
    {
      "cell_type": "markdown",
      "metadata": {
        "id": "sd14A8d8N4p6"
      },
      "source": [
        ""
      ]
    },
    {
      "cell_type": "markdown",
      "metadata": {
        "id": "ngKRhSwxN5wd"
      },
      "source": [
        "# **DICT Data Type**"
      ]
    },
    {
      "cell_type": "markdown",
      "metadata": {
        "id": "NyD-ien4c6kf"
      },
      "source": [
        "mydict = {'Name': 'Harry', 'Age': '12', 'House': 'Gryffindor'}\n",
        "\n",
        "==> 3 key-value pairs\n",
        "\n",
        "'Name': 'Harry'\n",
        "\n",
        "Name: =>> KEY\n",
        "Harry =>> VALUE\n",
        "\n",
        "'Age': '12'\n",
        "\n",
        "'House': 'Gryffindor'\n",
        "\n",
        "separated by: , \n",
        "\n",
        "many key-value pairs\n"
      ]
    },
    {
      "cell_type": "code",
      "metadata": {
        "colab": {
          "base_uri": "https://localhost:8080/"
        },
        "id": "Z_IeXEcDN8e0",
        "outputId": "b8e5a338-b97a-4c4f-c6e5-e6a496cca895"
      },
      "source": [
        "mydict = {'Name': 'Harry', 'Age': '12', 'House': 'Gryffindor'}\n",
        "\n",
        "print (mydict)"
      ],
      "execution_count": null,
      "outputs": [
        {
          "output_type": "stream",
          "name": "stdout",
          "text": [
            "{'Name': 'Harry', 'Age': '12', 'House': 'Gryffindor'}\n"
          ]
        }
      ]
    },
    {
      "cell_type": "code",
      "metadata": {
        "colab": {
          "base_uri": "https://localhost:8080/"
        },
        "id": "rfppn8IUOoUC",
        "outputId": "d6d2816c-5d61-4a1e-c58a-24458f58e021"
      },
      "source": [
        "print (\"mydict['House']: \", mydict['House']) "
      ],
      "execution_count": null,
      "outputs": [
        {
          "output_type": "stream",
          "name": "stdout",
          "text": [
            "mydict['House']:  Gryffindor\n"
          ]
        }
      ]
    }
  ]
}